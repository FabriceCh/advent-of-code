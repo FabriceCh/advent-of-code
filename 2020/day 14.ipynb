{
 "cells": [
  {
   "cell_type": "code",
   "execution_count": 83,
   "metadata": {},
   "outputs": [],
   "source": [
    "def txt_file_to_list(filename):\n",
    "    lines = []\n",
    "    with open(filename) as f:\n",
    "        lines = f.readlines()\n",
    "    content = [x.strip() for x in lines] \n",
    "    return content\n",
    "content = txt_file_to_list(\"day14.txt\")"
   ]
  },
  {
   "cell_type": "code",
   "execution_count": 84,
   "metadata": {},
   "outputs": [],
   "source": [
    "import re\n",
    "\n",
    "def get_mem_address_value(line):\n",
    "    p = re.compile(\"mem\\[([0-9]*)\\]\\s\\=\\s([0-9]*)\")\n",
    "    n = p.match(line)\n",
    "    return n.groups(1)"
   ]
  },
  {
   "cell_type": "code",
   "execution_count": 85,
   "metadata": {},
   "outputs": [
    {
     "data": {
      "text/plain": [
       "('59869', '296403277')"
      ]
     },
     "execution_count": 85,
     "metadata": {},
     "output_type": "execute_result"
    }
   ],
   "source": [
    "get_mem_address_value(\"mem[59869] = 296403277\")"
   ]
  },
  {
   "cell_type": "code",
   "execution_count": 86,
   "metadata": {},
   "outputs": [],
   "source": [
    "def apply_mask(the_mask, val):\n",
    "    new_mem = [\"0\" for i in range(36)]\n",
    "    for i, v in enumerate(the_mask):\n",
    "        if v == \"X\":\n",
    "            new_mem[i] = val[i]\n",
    "        else:\n",
    "            new_mem[i] = v\n",
    "    return \"\".join(new_mem)"
   ]
  },
  {
   "cell_type": "code",
   "execution_count": 87,
   "metadata": {},
   "outputs": [],
   "source": [
    "import re\n",
    "mem = {}\n",
    "mask = \"\"\n",
    "\n",
    "\n",
    "for line in content:\n",
    "    if line.startswith(\"mask\"):\n",
    "        mask=line[7:]\n",
    "    if line.startswith(\"mem\"):\n",
    "        address, val =  get_mem_address_value(line)\n",
    "        bval = \"{0:b}\".format(int(val))\n",
    "        bval = bval.zfill(36)\n",
    "        mem[address] = apply_mask(mask, bval)"
   ]
  },
  {
   "cell_type": "code",
   "execution_count": 88,
   "metadata": {},
   "outputs": [
    {
     "data": {
      "text/plain": [
       "12408060320841"
      ]
     },
     "execution_count": 88,
     "metadata": {},
     "output_type": "execute_result"
    }
   ],
   "source": [
    "total = 0\n",
    "for i, v in mem.items():\n",
    "    total += int(v, 2)\n",
    "\n",
    "total"
   ]
  },
  {
   "cell_type": "markdown",
   "metadata": {},
   "source": [
    "part 2"
   ]
  },
  {
   "cell_type": "code",
   "execution_count": 89,
   "metadata": {},
   "outputs": [
    {
     "data": {
      "text/plain": [
       "['000000000000000000000000000000011010',\n",
       " '000000000000000000000000000000011011',\n",
       " '000000000000000000000000000000111010',\n",
       " '000000000000000000000000000000111011']"
      ]
     },
     "execution_count": 89,
     "metadata": {},
     "output_type": "execute_result"
    }
   ],
   "source": [
    "import copy\n",
    "def mask_to_addresses(the_mask, address):\n",
    "    addresses = []\n",
    "    result = [a if m == '0' else m for m, a in zip(the_mask, address)]\n",
    "    addresses.append(result)\n",
    "    while \"X\" in addresses[0]:\n",
    "        incomplete = addresses.pop(0)\n",
    "        for i, v in enumerate(incomplete):\n",
    "            if v == \"X\":\n",
    "                new_a = copy.deepcopy(incomplete)\n",
    "                new_a[i] = \"0\"\n",
    "                addresses.append(new_a)\n",
    "                new_a = copy.deepcopy(incomplete)\n",
    "                new_a[i] = \"1\"\n",
    "                addresses.append(new_a)\n",
    "                break\n",
    "    return [\"\".join(a) for a in addresses]\n",
    "mask_to_addresses(\"000000000000000000000000000000X1001X\", \"000000000000000000000000000000101010\")"
   ]
  },
  {
   "cell_type": "code",
   "execution_count": 91,
   "metadata": {},
   "outputs": [],
   "source": [
    "import re\n",
    "mem = {}\n",
    "mask = \"\"\n",
    "\n",
    "\n",
    "for line in content:\n",
    "    if line.startswith(\"mask\"):\n",
    "        mask=line[7:]\n",
    "    if line.startswith(\"mem\"):\n",
    "        address, val =  get_mem_address_value(line)\n",
    "        bval = \"{0:b}\".format(int(val))\n",
    "        baddr = \"{0:b}\".format(int(address))\n",
    "        bval = bval.zfill(36)\n",
    "        baddr = baddr.zfill(36)\n",
    "        waddresses = mask_to_addresses(mask, baddr)\n",
    "        for waddr in waddresses:\n",
    "            mem[waddr] = bval"
   ]
  },
  {
   "cell_type": "code",
   "execution_count": 92,
   "metadata": {},
   "outputs": [
    {
     "data": {
      "text/plain": [
       "4466434626828"
      ]
     },
     "execution_count": 92,
     "metadata": {},
     "output_type": "execute_result"
    }
   ],
   "source": [
    "total = 0\n",
    "for i, v in mem.items():\n",
    "    total += int(v, 2)\n",
    "\n",
    "total"
   ]
  },
  {
   "cell_type": "code",
   "execution_count": null,
   "metadata": {},
   "outputs": [],
   "source": []
  }
 ],
 "metadata": {
  "kernelspec": {
   "display_name": "Python 3.8.3 64-bit",
   "language": "python",
   "name": "python38364bitc86adf9b61d94935acdd673ca3340bff"
  },
  "language_info": {
   "codemirror_mode": {
    "name": "ipython",
    "version": 3
   },
   "file_extension": ".py",
   "mimetype": "text/x-python",
   "name": "python",
   "nbconvert_exporter": "python",
   "pygments_lexer": "ipython3",
   "version": "3.8.6"
  }
 },
 "nbformat": 4,
 "nbformat_minor": 4
}
