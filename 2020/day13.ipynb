{
 "cells": [
  {
   "cell_type": "code",
   "execution_count": 57,
   "metadata": {},
   "outputs": [],
   "source": [
    "def txt_file_to_list(filename):\n",
    "    lines = []\n",
    "    with open(filename) as f:\n",
    "        lines = f.readlines()\n",
    "    content = [x.strip() for x in lines] \n",
    "    return content\n",
    "content = txt_file_to_list(\"day13.txt\")"
   ]
  },
  {
   "cell_type": "code",
   "execution_count": 58,
   "metadata": {},
   "outputs": [],
   "source": [
    "bus_ids = [int(i) for i in content[1].split(\",\") if i != \"x\"]"
   ]
  },
  {
   "cell_type": "code",
   "execution_count": 65,
   "metadata": {},
   "outputs": [],
   "source": [
    "timestp = int(content[0])"
   ]
  },
  {
   "cell_type": "code",
   "execution_count": 66,
   "metadata": {},
   "outputs": [],
   "source": [
    "def part1():\n",
    "    for time in range(timestp, timestp + bus_ids[0] + 1):\n",
    "        for n in bus_ids:\n",
    "            if time % n == 0:\n",
    "                print(\"n=\", n)\n",
    "                print((time - timestp) * n)\n",
    "                return"
   ]
  },
  {
   "cell_type": "code",
   "execution_count": 67,
   "metadata": {},
   "outputs": [
    {
     "name": "stdout",
     "output_type": "stream",
     "text": [
      "n= 29\n",
      "174\n"
     ]
    }
   ],
   "source": [
    "part1()"
   ]
  },
  {
   "cell_type": "markdown",
   "metadata": {},
   "source": [
    "Part 2"
   ]
  },
  {
   "cell_type": "code",
   "execution_count": 89,
   "metadata": {},
   "outputs": [],
   "source": [
    "x = \"x\""
   ]
  },
  {
   "cell_type": "code",
   "execution_count": 119,
   "metadata": {},
   "outputs": [],
   "source": [
    "init_buses = [7,13,x,x,59,x,31,19]"
   ]
  },
  {
   "cell_type": "code",
   "execution_count": 125,
   "metadata": {},
   "outputs": [],
   "source": [
    "init_buses = content[1].split(\",\")"
   ]
  },
  {
   "cell_type": "code",
   "execution_count": 126,
   "metadata": {},
   "outputs": [
    {
     "data": {
      "text/plain": [
       "{29: 0, 41: 19, 577: 29, 13: 42, 17: 43, 19: 48, 23: 52, 601: 60, 37: 97}"
      ]
     },
     "execution_count": 126,
     "metadata": {},
     "output_type": "execute_result"
    }
   ],
   "source": [
    "bus_ids = [int(i) for i in init_buses if i != \"x\"]\n",
    "buses = {int(id_):offset for offset, id_ in enumerate(init_buses) if id_ != \"x\"}\n",
    "buses"
   ]
  },
  {
   "cell_type": "code",
   "execution_count": 127,
   "metadata": {},
   "outputs": [],
   "source": [
    "from functools import reduce\n",
    "def chinese_remainder(n, a):\n",
    "    sum = 0\n",
    "    prod = reduce(lambda a, b: a*b, n)\n",
    "    for n_i, a_i in zip(n, a):\n",
    "        p = prod // n_i\n",
    "        sum += a_i * mul_inv(p, n_i) * p\n",
    "    return sum % prod\n",
    " \n",
    " \n",
    " \n",
    "def mul_inv(a, b):\n",
    "    b0 = b\n",
    "    x0, x1 = 0, 1\n",
    "    if b == 1: return 1\n",
    "    while a > 1:\n",
    "        q = a // b\n",
    "        a, b = b, a%b\n",
    "        x0, x1 = x1 - q * x0, x0\n",
    "    if x1 < 0: x1 += b0\n",
    "    return x1"
   ]
  },
  {
   "cell_type": "code",
   "execution_count": 128,
   "metadata": {},
   "outputs": [
    {
     "data": {
      "text/plain": [
       "{7: 0, 13: 1, 59: 4, 31: 6, 19: 7}"
      ]
     },
     "execution_count": 128,
     "metadata": {},
     "output_type": "execute_result"
    }
   ],
   "source": [
    "{7: 0, 13: 1, 59: 4, 31: 6, 19: 7}"
   ]
  },
  {
   "cell_type": "code",
   "execution_count": 129,
   "metadata": {},
   "outputs": [],
   "source": [
    "remainders = [k - v for k, v in buses.items()]"
   ]
  },
  {
   "cell_type": "code",
   "execution_count": 130,
   "metadata": {},
   "outputs": [
    {
     "data": {
      "text/plain": [
       "780601154795940"
      ]
     },
     "execution_count": 130,
     "metadata": {},
     "output_type": "execute_result"
    }
   ],
   "source": [
    "chinese_remainder(buses.keys(), remainders)"
   ]
  },
  {
   "cell_type": "code",
   "execution_count": null,
   "metadata": {},
   "outputs": [],
   "source": []
  }
 ],
 "metadata": {
  "kernelspec": {
   "display_name": "Python 3.8.3 64-bit",
   "language": "python",
   "name": "python38364bitc86adf9b61d94935acdd673ca3340bff"
  },
  "language_info": {
   "codemirror_mode": {
    "name": "ipython",
    "version": 3
   },
   "file_extension": ".py",
   "mimetype": "text/x-python",
   "name": "python",
   "nbconvert_exporter": "python",
   "pygments_lexer": "ipython3",
   "version": "3.8.6"
  }
 },
 "nbformat": 4,
 "nbformat_minor": 4
}
